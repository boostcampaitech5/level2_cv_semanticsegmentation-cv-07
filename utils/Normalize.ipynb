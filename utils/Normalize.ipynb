{
 "cells": [
  {
   "cell_type": "code",
   "execution_count": 1,
   "id": "53cd25f1-6816-4604-b1a2-35c71d0f6ebc",
   "metadata": {},
   "outputs": [],
   "source": [
    "import os\n",
    "import numpy as np\n",
    "import glob\n",
    "from PIL import Image\n",
    "from tqdm.notebook import tqdm"
   ]
  },
  {
   "cell_type": "code",
   "execution_count": 2,
   "id": "76115a25-074d-4623-91a8-fa104c9bc084",
   "metadata": {},
   "outputs": [],
   "source": [
    "data_dir = '/opt/ml/input/data/train/DCM'\n",
    "\n",
    "img_path_list = []\n",
    "for (root, dir, files) in  os.walk(data_dir):\n",
    "    \n",
    "    if not files:\n",
    "        continue\n",
    "    \n",
    "    for id in files:\n",
    "        img_path = os.path.join(root, id)\n",
    "        img_path_list.append(img_path)\n",
    "\n",
    "assert len(img_path_list) == 800"
   ]
  },
  {
   "cell_type": "code",
   "execution_count": 4,
   "id": "b88c4eca-2800-498d-ba14-477bf173add5",
   "metadata": {},
   "outputs": [],
   "source": [
    "img_list = []\n",
    "for m in img_path_list:\n",
    "    img = Image.open(m).convert('RGB')\n",
    "\n",
    "    assert img.mode == 'RGB'\n",
    "    \n",
    "    img = np.array(img)\n",
    "    img_list.append(img)"
   ]
  },
  {
   "cell_type": "code",
   "execution_count": 7,
   "id": "cc8c6a58-ed59-4d5f-8579-4dd2529efe39",
   "metadata": {},
   "outputs": [],
   "source": [
    "def calculate_norm(img_list):\n",
    "    # dataset의 axis=1, 2에 대한 평균 산출\n",
    "    mean_ = np.array([np.mean(x, axis=(0, 1)) for x in tqdm(img_list, ascii=True)])\n",
    "    # r, g, b 채널에 대한 각각의 평균 산출\n",
    "    mean_r = mean_[..., 0].mean()\n",
    "    mean_g = mean_[..., 1].mean()\n",
    "    mean_b = mean_[..., 2].mean()\n",
    "\n",
    "    # dataset의 axis=1, 2에 대한 표준편차 산출\n",
    "    std_ = np.array([np.std(x, axis=(0, 1)) for x in tqdm(img_list, ascii=True)])\n",
    "    # r, g, b 채널에 대한 각각의 표준편차 산출\n",
    "    std_r = std_[..., 0].mean()\n",
    "    std_g = std_[..., 1].mean()\n",
    "    std_b = std_[..., 2].mean()\n",
    "    \n",
    "    return (mean_r, mean_g, mean_b), (std_r, std_g, std_b)"
   ]
  },
  {
   "cell_type": "code",
   "execution_count": 8,
   "id": "4b7b5046-452c-4b3e-8611-5bc077a6d239",
   "metadata": {
    "scrolled": true
   },
   "outputs": [
    {
     "data": {
      "application/vnd.jupyter.widget-view+json": {
       "model_id": "9435df624e6b4feaa975590a326ced08",
       "version_major": 2,
       "version_minor": 0
      },
      "text/plain": [
       "HBox(children=(HTML(value=''), FloatProgress(value=0.0, max=800.0), HTML(value='')))"
      ]
     },
     "metadata": {},
     "output_type": "display_data"
    },
    {
     "name": "stdout",
     "output_type": "stream",
     "text": [
      "\n"
     ]
    },
    {
     "data": {
      "application/vnd.jupyter.widget-view+json": {
       "model_id": "e125d5c1eaa543d6ae9e0621ad40a57c",
       "version_major": 2,
       "version_minor": 0
      },
      "text/plain": [
       "HBox(children=(HTML(value=''), FloatProgress(value=0.0, max=800.0), HTML(value='')))"
      ]
     },
     "metadata": {},
     "output_type": "display_data"
    },
    {
     "name": "stdout",
     "output_type": "stream",
     "text": [
      "\n"
     ]
    },
    {
     "data": {
      "text/plain": [
       "((30.85484335154295, 30.85484335154295, 30.85484335154295),\n",
       " (41.85731344565145, 41.85731344565145, 41.85731344565145))"
      ]
     },
     "execution_count": 8,
     "metadata": {},
     "output_type": "execute_result"
    }
   ],
   "source": [
    "calculate_norm(img_list)"
   ]
  }
 ],
 "metadata": {
  "kernelspec": {
   "display_name": "Python 3 (ipykernel)",
   "language": "python",
   "name": "python3"
  },
  "language_info": {
   "codemirror_mode": {
    "name": "ipython",
    "version": 3
   },
   "file_extension": ".py",
   "mimetype": "text/x-python",
   "name": "python",
   "nbconvert_exporter": "python",
   "pygments_lexer": "ipython3",
   "version": "3.8.5"
  }
 },
 "nbformat": 4,
 "nbformat_minor": 5
}
