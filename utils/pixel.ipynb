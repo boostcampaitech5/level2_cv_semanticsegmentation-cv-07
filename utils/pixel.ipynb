{
 "cells": [
  {
   "cell_type": "code",
   "execution_count": 16,
   "metadata": {},
   "outputs": [
    {
     "name": "stdout",
     "output_type": "stream",
     "text": [
      "x 최솟값: 25\n",
      "y 최솟값: 20\n",
      "x 최댓값: 2027\n",
      "y 최댓값: 2047\n"
     ]
    }
   ],
   "source": [
    "import os\n",
    "import json\n",
    "\n",
    "def process_json_file(file_path, min_x, min_y, max_x, max_y):\n",
    "    with open(file_path, 'r') as file:\n",
    "        json_data = json.load(file)\n",
    "        \n",
    "        for annotation in json_data['annotations']:\n",
    "            points = annotation['points']\n",
    "            for point in points:\n",
    "                x, y = point\n",
    "                min_x = min(min_x, x)\n",
    "                min_y = min(min_y, y)\n",
    "                max_x = max(max_x, x)\n",
    "                max_y = max(max_y, y)\n",
    "    \n",
    "    return min_x, min_y, max_x, max_y\n",
    "\n",
    "def process_directory(directory_path):\n",
    "    min_x = min_y = float('inf')\n",
    "    max_x = max_y = float('-inf')\n",
    "    \n",
    "    for root, dirs, files in os.walk(directory_path):\n",
    "        for file in files:\n",
    "            if file.endswith('.json'):\n",
    "                file_path = os.path.join(root, file)\n",
    "                min_x, min_y, max_x, max_y = process_json_file(file_path, min_x, min_y, max_x, max_y)\n",
    "    \n",
    "    return min_x, min_y, max_x, max_y\n",
    "\n",
    "# 상위 폴더 경로\n",
    "directory_path = '/opt/ml/input/data/train/outputs_json'\n",
    "\n",
    "min_x, min_y, max_x, max_y = process_directory(directory_path)\n",
    "\n",
    "print('x 최솟값:', min_x)\n",
    "print('y 최솟값:', min_y)\n",
    "print('x 최댓값:', max_x)\n",
    "print('y 최댓값:', max_y)\n"
   ]
  },
  {
   "cell_type": "code",
   "execution_count": 17,
   "metadata": {},
   "outputs": [
    {
     "name": "stdout",
     "output_type": "stream",
     "text": [
      "x 최솟값들 중 5%에 해당하는 픽셀 값: 518.0\n",
      "y 최솟값들 중 5%에 해당하는 픽셀 값: 303.0\n",
      "x 최댓값들 중 5%에 해당하는 픽셀 값: 1508.0\n",
      "y 최댓값들 중 5%에 해당하는 픽셀 값: 2047.0\n"
     ]
    }
   ],
   "source": [
    "import os\n",
    "import json\n",
    "import numpy as np\n",
    "\n",
    "def process_json_file(file_path, min_x_list, min_y_list, max_x_list, max_y_list):\n",
    "    with open(file_path, 'r') as file:\n",
    "        json_data = json.load(file)\n",
    "        \n",
    "        for annotation in json_data['annotations']:\n",
    "            points = annotation['points']\n",
    "            x_values, y_values = zip(*points)\n",
    "            min_x = min(x_values)\n",
    "            min_y = min(y_values)\n",
    "            max_x = max(x_values)\n",
    "            max_y = max(y_values)\n",
    "            \n",
    "            min_x_list.append(min_x)\n",
    "            min_y_list.append(min_y)\n",
    "            max_x_list.append(max_x)\n",
    "            max_y_list.append(max_y)\n",
    "    \n",
    "    return min_x_list, min_y_list, max_x_list, max_y_list\n",
    "\n",
    "def process_directory(directory_path):\n",
    "    min_x_list = []\n",
    "    min_y_list = []\n",
    "    max_x_list = []\n",
    "    max_y_list = []\n",
    "    \n",
    "    for root, dirs, files in os.walk(directory_path):\n",
    "        for file in files:\n",
    "            if file.endswith('.json'):\n",
    "                file_path = os.path.join(root, file)\n",
    "                min_x_list, min_y_list, max_x_list, max_y_list = process_json_file(file_path, min_x_list, min_y_list, max_x_list, max_y_list)\n",
    "    \n",
    "    return min_x_list, min_y_list, max_x_list, max_y_list\n",
    "\n",
    "# 상위 폴더 경로\n",
    "directory_path = '/opt/ml/input/data/train/outputs_json'\n",
    "\n",
    "min_x_list, min_y_list, max_x_list, max_y_list = process_directory(directory_path)\n",
    "\n",
    "# 해당 percent 조절\n",
    "percentile = 5\n",
    "\n",
    "pixel_x_min = np.percentile(min_x_list, percentile)\n",
    "pixel_y_min = np.percentile(min_y_list, percentile)\n",
    "pixel_x_max = np.percentile(max_x_list, 100-percentile)\n",
    "pixel_y_max = np.percentile(max_y_list, 100-percentile)\n",
    "\n",
    "print(f\"x 최솟값들 중 {percentile}%에 해당하는 픽셀 값: {pixel_x_min}\")\n",
    "print(f\"y 최솟값들 중 {percentile}%에 해당하는 픽셀 값: {pixel_y_min}\")\n",
    "print(f\"x 최댓값들 중 {percentile}%에 해당하는 픽셀 값: {pixel_x_max}\")\n",
    "print(f\"y 최댓값들 중 {percentile}%에 해당하는 픽셀 값: {pixel_y_max}\")\n"
   ]
  },
  {
   "cell_type": "code",
   "execution_count": null,
   "metadata": {},
   "outputs": [],
   "source": []
  }
 ],
 "metadata": {
  "kernelspec": {
   "display_name": "base",
   "language": "python",
   "name": "python3"
  },
  "language_info": {
   "codemirror_mode": {
    "name": "ipython",
    "version": 3
   },
   "file_extension": ".py",
   "mimetype": "text/x-python",
   "name": "python",
   "nbconvert_exporter": "python",
   "pygments_lexer": "ipython3",
   "version": "3.8.5"
  },
  "orig_nbformat": 4
 },
 "nbformat": 4,
 "nbformat_minor": 2
}
