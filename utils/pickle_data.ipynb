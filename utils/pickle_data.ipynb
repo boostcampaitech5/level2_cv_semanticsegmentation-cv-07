{
 "cells": [
  {
   "cell_type": "code",
   "execution_count": 1,
   "id": "6089f6ef-9413-442d-b828-498869689066",
   "metadata": {},
   "outputs": [],
   "source": [
    "import sys\n",
    "import os\n",
    "import numpy as np\n",
    "import json\n",
    "import cv2\n",
    "import matplotlib.pyplot as plt\n",
    "import pickle\n",
    "from tqdm.notebook import tqdm\n",
    "import multiprocessing as mp\n",
    "from sklearn.model_selection import GroupKFold\n",
    "from functools import partial"
   ]
  },
  {
   "cell_type": "code",
   "execution_count": 2,
   "id": "ee477d56-ebfa-4247-9a19-56ba6953c469",
   "metadata": {},
   "outputs": [],
   "source": [
    "LABEL_ROOT = \"../data/train/outputs_json\"\n",
    "\n",
    "CLASSES = [\n",
    "    'finger-1', 'finger-2', 'finger-3', 'finger-4', 'finger-5',\n",
    "    'finger-6', 'finger-7', 'finger-8', 'finger-9', 'finger-10',\n",
    "    'finger-11', 'finger-12', 'finger-13', 'finger-14', 'finger-15',\n",
    "    'finger-16', 'finger-17', 'finger-18', 'finger-19', 'Trapezium',\n",
    "    'Trapezoid', 'Capitate', 'Hamate', 'Scaphoid', 'Lunate',\n",
    "    'Triquetrum', 'Pisiform', 'Radius', 'Ulna',\n",
    "]\n",
    "\n",
    "CLASS2IND = {v: i for i, v in enumerate(CLASSES)}\n",
    "IND2CLASS = {v: k for k, v in CLASS2IND.items()}\n",
    "\n",
    "jsons = {\n",
    "    os.path.relpath(os.path.join(root, fname), start=LABEL_ROOT)\n",
    "    for root, _dirs, files in os.walk(LABEL_ROOT)\n",
    "    for fname in files\n",
    "    if os.path.splitext(fname)[1].lower() == \".json\"\n",
    "}\n",
    "\n",
    "jsons_fn_prefix = {os.path.splitext(fname)[0] for fname in jsons}\n",
    "jsons = sorted(jsons)\n",
    "\n",
    "assert len(jsons)==800"
   ]
  },
  {
   "cell_type": "code",
   "execution_count": 3,
   "id": "01d6bfc3-9044-4423-8837-3be7c090f570",
   "metadata": {},
   "outputs": [],
   "source": [
    "def mask_data_form(idx, labelnames):\n",
    "\n",
    "\n",
    "    label_shape = (2048,2048,29)\n",
    "    label = np.zeros(label_shape, dtype=np.uint8)\n",
    "\n",
    "    label_name = labelnames[idx]\n",
    "    label_path = os.path.join(LABEL_ROOT, label_name)\n",
    "\n",
    "    # read label file\n",
    "    with open(label_path, \"r\") as f:\n",
    "        annotations = json.load(f)\n",
    "    annotations = annotations[\"annotations\"]\n",
    "        \n",
    "    # iterate each class\n",
    "    for ann in annotations:\n",
    "        c = ann[\"label\"]\n",
    "        class_ind = CLASS2IND[c]\n",
    "        points = np.array(ann[\"points\"])\n",
    "            \n",
    "        # polygon to mask\n",
    "        class_label = np.zeros((2048,2048), dtype=np.uint8)\n",
    "        cv2.fillPoly(class_label, [points], 1)\n",
    "        label[..., class_ind] = class_label\n",
    "    \n",
    "    return np.packbits(label)"
   ]
  },
  {
   "cell_type": "code",
   "execution_count": 7,
   "id": "99e6f60b-4720-4eab-ac0f-3c7920d88573",
   "metadata": {},
   "outputs": [],
   "source": [
    "def mask_picklize(save_dir, is_train=True, fold=0):\n",
    "    \n",
    "    _labelnames = np.array(jsons)\n",
    "    \n",
    "    groups = [os.path.dirname(fname) for fname in _labelnames]\n",
    "    ys = [0 for fname in _labelnames]\n",
    "    gkf = GroupKFold(n_splits=5)\n",
    "    \n",
    "    label_list = []\n",
    "    for i, (x, y) in enumerate(gkf.split(_labelnames, ys, groups)):\n",
    "        if is_train:\n",
    "            # fold번을 validation dataset으로 사용합니다.\n",
    "            if i == fold:\n",
    "                continue\n",
    "                    \n",
    "            label_list += list(_labelnames[y])\n",
    "            \n",
    "        else:\n",
    "            label_list = list(_labelnames[y])\n",
    "                \n",
    "            # skip i > 0\n",
    "            break\n",
    "\n",
    "    func = partial(mask_data_form, labelnames=label_list) \n",
    "    \n",
    "    num_cpu = mp.cpu_count()\n",
    "    print(f\"Number of CPU: {mp.cpu_count()} Name of CPU: {mp.current_process().name}\")\n",
    "\n",
    "    mask_data_lst = []\n",
    "\n",
    "    pool = mp.Pool(num_cpu)\n",
    "\n",
    "    inputs = [i for i in range(len(label_list))]\n",
    "    outputs = pool.map(func, inputs)\n",
    "\n",
    "    if is_train:\n",
    "        file_name = 'train'\n",
    "    else:\n",
    "        file_name = 'val'\n",
    "\n",
    "    with open(os.path.join(save_dir, f'{file_name}_mask_data_fold{fold}.pkl'), mode=\"wb\") as file:\n",
    "    \tpickle.dump(outputs, file)\n",
    "\n",
    "    print(f'총 {len(outputs)}개 data 저장')"
   ]
  },
  {
   "cell_type": "code",
   "execution_count": 8,
   "id": "6e6ce433-4886-445a-865f-1dc0de4f31ab",
   "metadata": {
    "scrolled": true
   },
   "outputs": [
    {
     "name": "stdout",
     "output_type": "stream",
     "text": [
      "Number of CPU: 8 Name of CPU: MainProcess\n",
      "총 160개 data 저장\n"
     ]
    }
   ],
   "source": [
    "save_dir = \"/opt/ml/input/code\"\n",
    "mask_picklize(save_dir, is_train=False)"
   ]
  },
  {
   "cell_type": "markdown",
   "id": "f1e1656e-e13c-4ebc-ac22-bd14b0495e57",
   "metadata": {},
   "source": [
    "# pickle 데이터Test"
   ]
  },
  {
   "cell_type": "code",
   "execution_count": 14,
   "id": "0529039b-ebf1-4b6e-a3d9-2934db627aac",
   "metadata": {},
   "outputs": [],
   "source": [
    "def label2rgb(label):\n",
    "    image_size = label.shape[:-1] + (3, )\n",
    "    image = np.zeros(image_size, dtype=np.uint8)\n",
    "    \n",
    "    for i, class_label in enumerate(np.transpose(label,(2,0,1))):\n",
    "        image[class_label == 1] = PALETTE[i]\n",
    "        \n",
    "    return image\n",
    "\n",
    "PALETTE = [\n",
    "    (220, 20, 60), (119, 11, 32), (0, 0, 142), (0, 0, 230), (106, 0, 228),\n",
    "    (0, 60, 100), (0, 80, 100), (0, 0, 70), (0, 0, 192), (250, 170, 30),\n",
    "    (100, 170, 30), (220, 220, 0), (175, 116, 175), (250, 0, 30), (165, 42, 42),\n",
    "    (255, 77, 255), (0, 226, 252), (182, 182, 255), (0, 82, 0), (120, 166, 157),\n",
    "    (110, 76, 0), (174, 57, 255), (199, 100, 0), (72, 0, 118), (255, 179, 240),\n",
    "    (0, 125, 92), (209, 0, 151), (188, 208, 182), (0, 220, 176),\n",
    "]"
   ]
  },
  {
   "cell_type": "code",
   "execution_count": 11,
   "id": "a5e27924-4a1b-4703-af22-c47b17ba8b22",
   "metadata": {},
   "outputs": [],
   "source": [
    "with open(\"/opt/ml/input/code/val_mask_data_fold0.pkl\", 'rb') as f:\n",
    "    pickle_data = pickle.load(f)"
   ]
  },
  {
   "cell_type": "code",
   "execution_count": 15,
   "id": "b9d08202-d544-42a2-b1a0-c8611dfff2b0",
   "metadata": {},
   "outputs": [],
   "source": [
    "test = np.unpackbits(pickle_data[0]).reshape(2048,2048,29)"
   ]
  },
  {
   "cell_type": "code",
   "execution_count": 16,
   "id": "64edfb84-9916-4470-8f3e-6f48db7e3e3a",
   "metadata": {},
   "outputs": [
    {
     "data": {
      "text/plain": [
       "<matplotlib.image.AxesImage at 0x7f2fd3b69dc0>"
      ]
     },
     "execution_count": 16,
     "metadata": {},
     "output_type": "execute_result"
    },
    {
     "data": {
      "image/png": "[encoded data removed]",
      "text/plain": [
       "<Figure size 640x480 with 1 Axes>"
      ]
     },
     "metadata": {},
     "output_type": "display_data"
    }
   ],
   "source": [
    "plt.imshow(label2rgb(test))"
   ]
  },
  {
   "cell_type": "code",
   "execution_count": null,
   "id": "f7f5787a-2160-42e0-b9ce-8023e6ede191",
   "metadata": {},
   "outputs": [],
   "source": []
  }
 ],
 "metadata": {
  "kernelspec": {
   "display_name": "Python 3 (ipykernel)",
   "language": "python",
   "name": "python3"
  },
  "language_info": {
   "codemirror_mode": {
    "name": "ipython",
    "version": 3
   },
   "file_extension": ".py",
   "mimetype": "text/x-python",
   "name": "python",
   "nbconvert_exporter": "python",
   "pygments_lexer": "ipython3",
   "version": "3.8.5"
  }
 },
 "nbformat": 4,
 "nbformat_minor": 5
}
